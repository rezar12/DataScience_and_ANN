{
 "cells": [
  {
   "cell_type": "markdown",
   "metadata": {},
   "source": [
    "# <img style=\"float: left; padding-right: 10px; width: 45px\" src=\"https://raw.githubusercontent.com/Harvard-IACS/2018-CS109A/master/content/styles/iacs.png\"> CS-109A Introduction to Data Science\n",
    "\n",
    "## Lecture 14: Discriminant Analysis Demo\n",
    "\n",
    "\n",
    "**Harvard University**<br/>\n",
    "**Fall 2018**<br/>\n",
    "**Instructors**: Pavlos Protopapas and Kevin Rader\n",
    "\n",
    "\n",
    "---"
   ]
  },
  {
   "cell_type": "code",
   "execution_count": 1,
   "metadata": {},
   "outputs": [
    {
     "data": {
      "text/html": [
       "<style>\n",
       "blockquote { background: #AEDE94; }\n",
       "h1 { \n",
       "    padding-top: 25px;\n",
       "    padding-bottom: 25px;\n",
       "    text-align: left; \n",
       "    padding-left: 10px;\n",
       "    background-color: #DDDDDD; \n",
       "    color: black;\n",
       "}\n",
       "h2 { \n",
       "    padding-top: 10px;\n",
       "    padding-bottom: 10px;\n",
       "    text-align: left; \n",
       "    padding-left: 5px;\n",
       "    background-color: #EEEEEE; \n",
       "    color: black;\n",
       "}\n",
       "\n",
       "div.exercise {\n",
       "\tbackground-color: #ffcccc;\n",
       "\tborder-color: #E9967A; \t\n",
       "\tborder-left: 5px solid #800080; \n",
       "\tpadding: 0.5em;\n",
       "}\n",
       "\n",
       "span.sub-q {\n",
       "\tfont-weight: bold;\n",
       "}\n",
       "div.theme {\n",
       "\tbackground-color: #DDDDDD;\n",
       "\tborder-color: #E9967A; \t\n",
       "\tborder-left: 5px solid #800080; \n",
       "\tpadding: 0.5em;\n",
       "\tfont-size: 18pt;\n",
       "}\n",
       "div.gc { \n",
       "\tbackground-color: #AEDE94;\n",
       "\tborder-color: #E9967A; \t \n",
       "\tborder-left: 5px solid #800080; \n",
       "\tpadding: 0.5em;\n",
       "\tfont-size: 12pt;\n",
       "}\n",
       "p.q1 { \n",
       "    padding-top: 5px;\n",
       "    padding-bottom: 5px;\n",
       "    text-align: left; \n",
       "    padding-left: 5px;\n",
       "    background-color: #EEEEEE; \n",
       "    color: black;\n",
       "}\n",
       "header {\n",
       "   padding-top: 35px;\n",
       "    padding-bottom: 35px;\n",
       "    text-align: left; \n",
       "    padding-left: 10px;\n",
       "    background-color: #DDDDDD; \n",
       "    color: black;\n",
       "}\n",
       "</style>\n",
       "\n"
      ],
      "text/plain": [
       "<IPython.core.display.HTML object>"
      ]
     },
     "execution_count": 1,
     "metadata": {},
     "output_type": "execute_result"
    }
   ],
   "source": [
    "## RUN THIS CELL TO PROPERLY HIGHLIGHT THE EXERCISES\n",
    "import requests\n",
    "from IPython.core.display import HTML\n",
    "styles = requests.get(\"https://raw.githubusercontent.com/Harvard-IACS/2018-CS109A/master/content/styles/cs109.css\").text\n",
    "HTML(styles)"
   ]
  },
  {
   "cell_type": "markdown",
   "metadata": {},
   "source": [
    "---"
   ]
  },
  {
   "cell_type": "code",
   "execution_count": null,
   "metadata": {
    "scrolled": true,
    "slideshow": {
     "slide_type": "slide"
    }
   },
   "outputs": [],
   "source": [
    "import sys\n",
    "import numpy as np\n",
    "import pylab as pl\n",
    "import pandas as pd\n",
    "import statsmodels.api as sm\n",
    "import matplotlib.pyplot as plt\n",
    "import matplotlib\n",
    "import sklearn as sk\n",
    "import sklearn.discriminant_analysis as da\n",
    "import sklearn.neighbors as knn\n",
    "\n"
   ]
  },
  {
   "cell_type": "code",
   "execution_count": null,
   "metadata": {},
   "outputs": [],
   "source": [
    "#read in the GSS data\n",
    "gssdata = pd.read_csv(\"gsspartyid.csv\")\n",
    "gssdata.head()"
   ]
  },
  {
   "cell_type": "code",
   "execution_count": null,
   "metadata": {},
   "outputs": [],
   "source": [
    "LDA = da.LinearDiscriminantAnalysis()\n",
    "X = gssdata[[\"income\",\"educ\",\"abortion\"]]\n",
    "model_LDA = LDA.fit(X,gssdata['republican'])\n",
    "print(\"Specificity is\",np.mean(model_LDA.predict(X[gssdata['republican']==0])))\n",
    "print(\"Sensitivity is\",1-np.mean(model_LDA.predict(X[gssdata['republican']==1])))\n",
    "print(\"False positive rate is\",np.mean(gssdata['republican'][model_LDA.predict(X)==1]))\n",
    "print(\"False negative rate is\",1-np.mean(gssdata['republican'][model_LDA.predict(X)==0]))"
   ]
  },
  {
   "cell_type": "code",
   "execution_count": null,
   "metadata": {},
   "outputs": [],
   "source": [
    "#read in the first simulation data set\n",
    "data1 = pd.read_csv(\"dataset1.csv\")\n",
    "X = data1[['x1','x2']]\n",
    "data1['x1sq'] = data1['x1']**2\n",
    "data1['x2sq'] = data1['x2']**2\n",
    "X2 = data1[['x1','x2','x1sq','x2sq']]\n",
    "y = data1['y']\n",
    "n = data1.shape[0]\n",
    "data1.head()"
   ]
  },
  {
   "cell_type": "code",
   "execution_count": null,
   "metadata": {},
   "outputs": [],
   "source": [
    "lda = da.LinearDiscriminantAnalysis()\n",
    "qda = da.QuadraticDiscriminantAnalysis()\n",
    "lda.fit(X,y)\n",
    "qda.fit(X,y)\n",
    "logit1 = sk.linear_model.LogisticRegression(C = 1000000)\n",
    "logit2 = sk.linear_model.LogisticRegression(C = 1000000)\n",
    "logit1.fit(X,y)\n",
    "logit2.fit(X2,y)\n",
    "\n",
    "print(\"Overall misclassification rate of Logit1 is\",(1-logit1.score(X,y)))\n",
    "print(\"Overall misclassification rate of Logit2 is\",(1-logit2.score(X2,y)))\n",
    "print(\"Overall misclassification rate of LDA is\",(1-lda.score(X,y)))\n",
    "print(\"Overall misclassification rate of QDA is\",(1-qda.score(X,y)))"
   ]
  },
  {
   "cell_type": "code",
   "execution_count": null,
   "metadata": {},
   "outputs": [],
   "source": [
    "knn3=knn.KNeighborsClassifier(3)\n",
    "knn25=knn.KNeighborsClassifier(25)\n",
    "knn3.fit(X,y)\n",
    "knn25.fit(X,y)\n",
    "\n",
    "#note, the KNNs are not correct :(\n",
    "print(\"Overall misclassification rate of kNN3 is\",(1-knn3.score(X,y)))\n",
    "print(\"Overall misclassification rate of kNN25 is\",(1-knn25.score(X,y)))\n"
   ]
  },
  {
   "cell_type": "markdown",
   "metadata": {
    "collapsed": true
   },
   "source": [
    "---"
   ]
  }
 ],
 "metadata": {
  "anaconda-cloud": {},
  "celltoolbar": "Slideshow",
  "kernelspec": {
   "display_name": "Python 3",
   "language": "python",
   "name": "python3"
  },
  "language_info": {
   "codemirror_mode": {
    "name": "ipython",
    "version": 3
   },
   "file_extension": ".py",
   "mimetype": "text/x-python",
   "name": "python",
   "nbconvert_exporter": "python",
   "pygments_lexer": "ipython3",
   "version": "3.7.1"
  }
 },
 "nbformat": 4,
 "nbformat_minor": 1
}
