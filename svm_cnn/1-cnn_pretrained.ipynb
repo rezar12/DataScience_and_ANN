{
 "cells": [
  {
   "cell_type": "markdown",
   "metadata": {},
   "source": [
    "## Training a CNN"
   ]
  },
  {
   "cell_type": "markdown",
   "metadata": {},
   "source": [
    "In this lab we are going to be working with a [\"17 Category Flower Dataset\"](https://www.robots.ox.ac.uk/~vgg/data/flowers/17/index.html) from Visual Geometry Group of Oxford University.\n",
    "We will acquire the data, split it, train multiple models and do some vizualizations. "
   ]
  },
  {
   "cell_type": "code",
   "execution_count": 1,
   "metadata": {},
   "outputs": [],
   "source": [
    "import numpy as np \n",
    "import pandas as pd \n",
    "import os \n",
    "import shutil "
   ]
  },
  {
   "cell_type": "markdown",
   "metadata": {},
   "source": [
    "### 1. Data aquisition"
   ]
  },
  {
   "cell_type": "markdown",
   "metadata": {},
   "source": [
    "First, let's download the data from the webpage. You could have done it manually by going to the page, but we'll do it in the script."
   ]
  },
  {
   "cell_type": "code",
   "execution_count": 2,
   "metadata": {},
   "outputs": [],
   "source": [
    "import urllib"
   ]
  },
  {
   "cell_type": "code",
   "execution_count": 3,
   "metadata": {},
   "outputs": [],
   "source": [
    "dataset_url = \"https://www.robots.ox.ac.uk/~vgg/data/flowers/17/17flowers.tgz\"\n",
    "split_description_url = \"https://www.robots.ox.ac.uk/~vgg/data/flowers/17/datasplits.mat\"\n",
    "#segmentation_ground_truth_url = \"https://www.robots.ox.ac.uk/~vgg/data/flowers/17/trimaps.tgz\"\n",
    "readme_url = \"https://www.robots.ox.ac.uk/~vgg/data/flowers/17/README.txt\""
   ]
  },
  {
   "cell_type": "markdown",
   "metadata": {},
   "source": [
    "First, let's download the README file"
   ]
  },
  {
   "cell_type": "code",
   "execution_count": 4,
   "metadata": {},
   "outputs": [],
   "source": [
    "# create folder to store data\n",
    "data_folder = \"data/\"\n",
    "os.makedirs(data_folder, exist_ok=True)"
   ]
  },
  {
   "cell_type": "code",
   "execution_count": 5,
   "metadata": {},
   "outputs": [],
   "source": [
    "# let's write a function to download data as we'll use multiple times\n",
    "def get_file(file_url, target_folder=\"\"):\n",
    "    filename = os.path.basename(file_url)\n",
    "    # express explicitly the filepath where data will be downloaded\n",
    "    target_filepath = os.path.join(target_folder, filename)\n",
    "    !curl $file_url -o $target_filepath\n",
    "#     filepath, response = urllib.request.urlretrieve(file_url, target_filepath)\n",
    "    response = True\n",
    "    filepath = target_filepath\n",
    "    return filepath, response"
   ]
  },
  {
   "cell_type": "code",
   "execution_count": 6,
   "metadata": {},
   "outputs": [
    {
     "name": "stderr",
     "output_type": "stream",
     "text": [
      "  % Total    % Received % Xferd  Average Speed   Time    Time     Time  Current\n",
      "                                 Dload  Upload   Total   Spent    Left  Speed\n",
      "\n",
      "  0     0    0     0    0     0      0      0 --:--:-- --:--:-- --:--:--     0\n",
      "  0     0    0     0    0     0      0      0 --:--:-- --:--:-- --:--:--     0\n",
      "100  2478  100  2478    0     0   2478      0  0:00:01 --:--:--  0:00:01 14406\n"
     ]
    }
   ],
   "source": [
    "# download readme file\n",
    "# filename = os.path.basename(readme_url)\n",
    "# target_filepath = os.path.join(data_folder, filename)\n",
    "# print(target_filepath)\n",
    "# !curl $readme_url -o $target_filepath\n",
    "readme_filepath, response = get_file(readme_url, data_folder)"
   ]
  },
  {
   "cell_type": "code",
   "execution_count": 7,
   "metadata": {},
   "outputs": [
    {
     "name": "stdout",
     "output_type": "stream",
     "text": [
      "17 Flower Category Database\n",
      "----------------------------------------------\n",
      "This set contains images of flowers belonging to 17 different categories. \n",
      "The images were acquired by searching the web and taking pictures. There are\n",
      "80 images for each category. \n",
      "\n",
      "The database was used in:\n",
      "\n",
      "Nilsback, M-E. and Zisserman, A.  A Visual Vocabulary for Flower Classification.\n",
      "Proceedings of the IEEE Conference on Computer Vision and Pattern Recognition (2006) \n",
      "http://www.robots.ox.ac.uk/~vgg/publications/papers/nilsback06.{pdf,ps.gz}.\n",
      "\n",
      "The datasplits used in this paper are specified in datasplits.mat\n",
      "\n",
      "There are 3 separate splits. The results in the paper are averaged over the 3 splits.\n",
      "Each split has a training file (trn1,trn2,trn3), a validation file (val1, val2, val3)\n",
      "and a testfile (tst1, tst2 or tst3). \n",
      "\n",
      "Segmentation Ground Truth\n",
      "------------------------------------------------\n",
      "The ground truth is given for a subset of the images from 13 different\n",
      "categories. \n",
      "\n",
      "More details can be found in:\n",
      "\n",
      "Nilsback, M-E. and Zisserman, A. Delving into the whorl of flower segmentation.\n",
      "Proceedings of the British Machine Vision Conference (2007)\n",
      "http:www.robots.ox.ac.uk/~vgg/publications/papers/nilsback06.(pdf,ps.gz).\n",
      "\n",
      "The ground truth file also contains the file imlist.mat, which indicated\n",
      "which images in the original database that have been anotated.\n",
      "\n",
      "Distance matrices\n",
      "-----------------------------------------------\n",
      "\n",
      "We provide two set of distance matrices:\n",
      "\n",
      "1. distancematrices17gcfeat06.mat \n",
      "- Distance matrices using the same features and segmentation as detailed in:\n",
      "    Nilsback, M-E. and Zisserman, A.  A Visual Vocabulary for Flower Classification.\n",
      "    Proceedings of the IEEE Conference on Computer Vision and Pattern Recognition(2006)\n",
      "    http://www.robots.ox.ac.uk/~vgg/publications/papers/nilsback06.{pdf,ps.gz}.\n",
      "\n",
      "2. distancematrices17itfeat08.mat\n",
      "- Distance matrices using the same features as described in: \n",
      "    Nilsback, M-E. and Zisserman, A. Automated flower classification over a large number of classes.\n",
      "    Proceedings of the Indian Conference on Computer Vision, Graphics and Image Processing (2008)\n",
      "    http://www.robots.ox.ac.uk/~vgg/publications/papers/nilsback08.{pdf,ps.gz}.\n",
      "  and the iterative segmenation scheme detailed in \n",
      "    Nilsback, M-E. and Zisserman, A. Delving into the whorl of flower segmentation.\n",
      "    Proceedings of the British Machine Vision Conference (2007)\n",
      "    http:www.robots.ox.ac.uk/~vgg/publications/papers/nilsback06.(pdf,ps.gz).\n",
      "\n"
     ]
    }
   ],
   "source": [
    "# Check out the README\n",
    "with open(readme_filepath, 'r') as readme:\n",
    "    text = readme.read()\n",
    "    print(text)"
   ]
  },
  {
   "cell_type": "markdown",
   "metadata": {},
   "source": [
    "Now, let's download the data"
   ]
  },
  {
   "cell_type": "code",
   "execution_count": 8,
   "metadata": {},
   "outputs": [
    {
     "name": "stderr",
     "output_type": "stream",
     "text": [
      "  % Total    % Received % Xferd  Average Speed   Time    Time     Time  Current\n",
      "                                 Dload  Upload   Total   Spent    Left  Speed\n",
      "\n",
      "  0     0    0     0    0     0      0      0 --:--:-- --:--:-- --:--:--     0\n",
      " 11 57.4M   11 7051k    0     0  7051k      0  0:00:08 --:--:--  0:00:08 8059k\n",
      " 49 57.4M   49 28.2M    0     0  28.2M      0  0:00:02  0:00:01  0:00:01 15.0M\n",
      " 88 57.4M   88 50.6M    0     0  25.3M      0  0:00:02  0:00:02 --:--:-- 17.6M\n",
      "100 57.4M  100 57.4M    0     0  19.1M      0  0:00:03  0:00:03 --:--:-- 18.1M\n"
     ]
    }
   ],
   "source": [
    "# download the data\n",
    "dataset_filepath, response = get_file(dataset_url, data_folder)"
   ]
  },
  {
   "cell_type": "markdown",
   "metadata": {},
   "source": [
    "We have just downloaded a tar file. Let's unpack it."
   ]
  },
  {
   "cell_type": "code",
   "execution_count": 9,
   "metadata": {},
   "outputs": [],
   "source": [
    "import tarfile"
   ]
  },
  {
   "cell_type": "code",
   "execution_count": 10,
   "metadata": {},
   "outputs": [],
   "source": [
    "with tarfile.open(dataset_filepath) as tar:\n",
    "    tar.extractall(path=data_folder)"
   ]
  },
  {
   "cell_type": "markdown",
   "metadata": {},
   "source": [
    "What have we extracted? "
   ]
  },
  {
   "cell_type": "code",
   "execution_count": 11,
   "metadata": {},
   "outputs": [
    {
     "data": {
      "text/plain": [
       "['17flowers.tgz', 'datasplits.mat', 'jpg', 'README.txt', 'training_folder']"
      ]
     },
     "execution_count": 11,
     "metadata": {},
     "output_type": "execute_result"
    }
   ],
   "source": [
    "os.listdir(data_folder)"
   ]
  },
  {
   "cell_type": "markdown",
   "metadata": {},
   "source": [
    "We see that a new folder named *jpg* has appeared."
   ]
  },
  {
   "cell_type": "code",
   "execution_count": 12,
   "metadata": {},
   "outputs": [
    {
     "data": {
      "text/plain": [
       "['files.txt',\n",
       " 'files.txt~',\n",
       " 'image_0001.jpg',\n",
       " 'image_0002.jpg',\n",
       " 'image_0003.jpg',\n",
       " 'image_0004.jpg',\n",
       " 'image_0005.jpg',\n",
       " 'image_0006.jpg',\n",
       " 'image_0007.jpg',\n",
       " 'image_0008.jpg']"
      ]
     },
     "execution_count": 12,
     "metadata": {},
     "output_type": "execute_result"
    }
   ],
   "source": [
    "os.listdir(os.path.join(data_folder, 'jpg'))[:10]"
   ]
  },
  {
   "cell_type": "markdown",
   "metadata": {},
   "source": [
    "This folder contains images of the dataset. But what about ground truth?\n",
    "\n",
    "Based on the README, each class contains exactly 80 images. Quick check shows that images of one class are grouped together. We will use this fact later to group the images by class."
   ]
  },
  {
   "cell_type": "markdown",
   "metadata": {},
   "source": [
    "The split information was already provided with the dataset (otherwise we could have used train_test_split to obtain it)"
   ]
  },
  {
   "cell_type": "code",
   "execution_count": 13,
   "metadata": {},
   "outputs": [
    {
     "name": "stderr",
     "output_type": "stream",
     "text": [
      "  % Total    % Received % Xferd  Average Speed   Time    Time     Time  Current\n",
      "                                 Dload  Upload   Total   Spent    Left  Speed\n",
      "\n",
      "  0     0    0     0    0     0      0      0 --:--:-- --:--:-- --:--:--     0\n",
      "100  7487  100  7487    0     0   7487      0  0:00:01 --:--:--  0:00:01 59896\n"
     ]
    }
   ],
   "source": [
    "# download split file\n",
    "split_filepath, response = get_file(split_description_url, data_folder)"
   ]
  },
  {
   "cell_type": "code",
   "execution_count": 14,
   "metadata": {},
   "outputs": [],
   "source": [
    "from scipy.io import loadmat\n",
    "split = loadmat(split_filepath)"
   ]
  },
  {
   "cell_type": "code",
   "execution_count": 15,
   "metadata": {},
   "outputs": [
    {
     "data": {
      "text/plain": [
       "dict_keys(['__header__', '__version__', '__globals__', 'trn1', 'trn2', 'trn3', 'tst1', 'tst2', 'tst3', 'val3', 'val2', 'val1'])"
      ]
     },
     "execution_count": 15,
     "metadata": {},
     "output_type": "execute_result"
    }
   ],
   "source": [
    "split.keys()"
   ]
  },
  {
   "cell_type": "markdown",
   "metadata": {},
   "source": [
    "Let's use option 1 of train/val/test split:"
   ]
  },
  {
   "cell_type": "code",
   "execution_count": 16,
   "metadata": {},
   "outputs": [
    {
     "name": "stdout",
     "output_type": "stream",
     "text": [
      "Train set contains 680 files, \n",
      "val set contains 340 files, \n",
      "and test set contains 340 files\n"
     ]
    }
   ],
   "source": [
    "train = split[\"trn1\"]\n",
    "val = split[\"val1\"]\n",
    "test = split[\"tst1\"]\n",
    "\n",
    "print(\"\"\"Train set contains {} files, \n",
    "val set contains {} files, \n",
    "and test set contains {} files\"\"\".format(train.shape[1], val.shape[1], test.shape[1]))\n"
   ]
  },
  {
   "cell_type": "markdown",
   "metadata": {},
   "source": [
    "##### Excercise\n",
    "Additional things to do:\n",
    "- Check how many images we have downloaded.\n",
    "- Display some of the images.\n",
    "- Are those color images? \n",
    "- What are their shape? \n",
    "- Are they all of the same shape?"
   ]
  },
  {
   "cell_type": "markdown",
   "metadata": {},
   "source": [
    "### 2. Data regrouping"
   ]
  },
  {
   "cell_type": "markdown",
   "metadata": {},
   "source": [
    "During the training with Keras for the simplicity we are going to be using flow_from_dir method of ImageDataGenerator. However, we'll need to organize data first in the specific manner: separate train, val, test sets, and put images of each class in a designated folder. \n"
   ]
  },
  {
   "cell_type": "markdown",
   "metadata": {},
   "source": [
    "First, let's write a function to get a class name from file index. We'll use the fact that each class has 80 images, and they are grouped together by index. "
   ]
  },
  {
   "cell_type": "code",
   "execution_count": 17,
   "metadata": {},
   "outputs": [],
   "source": [
    "def get_image_class(file_index):\n",
    "    image_class_idx = (int(file_index) - 1) // 80 + 1\n",
    "    class_name = \"{:02d}\".format(image_class_idx)\n",
    "    \n",
    "    return class_name"
   ]
  },
  {
   "cell_type": "markdown",
   "metadata": {},
   "source": [
    "Now let's rearrange the data"
   ]
  },
  {
   "cell_type": "code",
   "execution_count": 18,
   "metadata": {},
   "outputs": [],
   "source": [
    "from shutil import copy"
   ]
  },
  {
   "cell_type": "code",
   "execution_count": 19,
   "metadata": {},
   "outputs": [],
   "source": [
    "training_folder_name = \"training_folder\""
   ]
  },
  {
   "cell_type": "code",
   "execution_count": 20,
   "metadata": {},
   "outputs": [
    {
     "name": "stdout",
     "output_type": "stream",
     "text": [
      "files.txt\n",
      "Not a jpg file, skipping\n",
      "files.txt~\n",
      "Not a jpg file, skipping\n"
     ]
    }
   ],
   "source": [
    "for filename in os.listdir(os.path.join(data_folder, 'jpg')):\n",
    "    if filename.endswith('jpg'):\n",
    "        ### filename 'image_0936.jpg' --> file_index 936\n",
    "        file_index = int(filename[6:10])\n",
    "        true_class = get_image_class(file_index)\n",
    "        if file_index in train:\n",
    "            split_folder = 'train'\n",
    "        elif file_index in val:\n",
    "            split_folder = 'val'\n",
    "        elif file_index in test:\n",
    "            split_folder = 'test'     \n",
    "        \n",
    "        target_folder = os.path.join(data_folder, training_folder_name, split_folder, true_class)\n",
    "        os.makedirs(target_folder, exist_ok=True)\n",
    "        \n",
    "        source_filepath = os.path.join(data_folder, 'jpg', filename)\n",
    "        copy(source_filepath, target_folder)\n",
    "    else:\n",
    "        print(filename)\n",
    "        print(\"Not a jpg file, skipping\")\n",
    "    "
   ]
  },
  {
   "cell_type": "markdown",
   "metadata": {},
   "source": [
    "### 3. CNN training"
   ]
  },
  {
   "cell_type": "markdown",
   "metadata": {},
   "source": [
    "Now that we have prepared the data, we will be able to train a model."
   ]
  },
  {
   "cell_type": "markdown",
   "metadata": {},
   "source": [
    "#### 3.1 Transfer learning"
   ]
  },
  {
   "cell_type": "markdown",
   "metadata": {},
   "source": [
    "Let's do the [transfer learning](https://papers.nips.cc/paper/5347-how-transferable-are-features-in-deep-neural-networks.pdf) we have briefly discussed last time. We'll load one of the pretrained models from Keras library with [ImageNet weights](http://www.image-net.org/)."
   ]
  },
  {
   "cell_type": "markdown",
   "metadata": {},
   "source": [
    "##### Model preparation"
   ]
  },
  {
   "cell_type": "code",
   "execution_count": 21,
   "metadata": {},
   "outputs": [
    {
     "name": "stderr",
     "output_type": "stream",
     "text": [
      "Using TensorFlow backend.\n"
     ]
    }
   ],
   "source": [
    "import keras\n",
    "from keras.preprocessing.image import ImageDataGenerator\n",
    "from keras import backend as K\n",
    "import tensorflow as tf\n",
    "\n",
    "import os"
   ]
  },
  {
   "cell_type": "code",
   "execution_count": 103,
   "metadata": {},
   "outputs": [],
   "source": [
    "K.clear_session()"
   ]
  },
  {
   "cell_type": "code",
   "execution_count": 104,
   "metadata": {},
   "outputs": [],
   "source": [
    "## GPU selection --> execute do only if you need to select a GPU / part of GPU\n",
    "\n",
    "os.environ[\"CUDA_VISIBLE_DEVICES\"] = \"0\" \n",
    "\n",
    "### Set session with share of GPU\n",
    "config_1 = tf.compat.v1.ConfigProto()\n",
    "gpu_fraction_1 = float(os.environ.get('GPU_LIMIT_1', 0.85))\n",
    "config_1.gpu_options.per_process_gpu_memory_fraction = gpu_fraction_1\n",
    "config_1.gpu_options.allow_growth = True\n",
    "\n",
    "# sess_1 = tf.Session(config=config_1)\n",
    "# sess_1.run(tf.global_variables_initializer())\n",
    "# K.set_session(sess_1)"
   ]
  },
  {
   "cell_type": "markdown",
   "metadata": {},
   "source": [
    "We'll be using VGG16 model. Together with weights, we'll also need a corresponding preprocessing function for the input images."
   ]
  },
  {
   "cell_type": "code",
   "execution_count": 105,
   "metadata": {},
   "outputs": [],
   "source": [
    "from keras.applications.vgg16 import VGG16\n",
    "from keras.applications.vgg16 import preprocess_input as preprocess_input_vgg\n",
    "\n",
    "from keras.layers import Dense, Dropout, Flatten\n",
    "from keras.models import Model"
   ]
  },
  {
   "cell_type": "code",
   "execution_count": 106,
   "metadata": {},
   "outputs": [
    {
     "name": "stdout",
     "output_type": "stream",
     "text": [
      "Model: \"vgg16\"\n",
      "_________________________________________________________________\n",
      "Layer (type)                 Output Shape              Param #   \n",
      "=================================================================\n",
      "input_1 (InputLayer)         (None, 224, 224, 3)       0         \n",
      "_________________________________________________________________\n",
      "block1_conv1 (Conv2D)        (None, 224, 224, 64)      1792      \n",
      "_________________________________________________________________\n",
      "block1_conv2 (Conv2D)        (None, 224, 224, 64)      36928     \n",
      "_________________________________________________________________\n",
      "block1_pool (MaxPooling2D)   (None, 112, 112, 64)      0         \n",
      "_________________________________________________________________\n",
      "block2_conv1 (Conv2D)        (None, 112, 112, 128)     73856     \n",
      "_________________________________________________________________\n",
      "block2_conv2 (Conv2D)        (None, 112, 112, 128)     147584    \n",
      "_________________________________________________________________\n",
      "block2_pool (MaxPooling2D)   (None, 56, 56, 128)       0         \n",
      "_________________________________________________________________\n",
      "block3_conv1 (Conv2D)        (None, 56, 56, 256)       295168    \n",
      "_________________________________________________________________\n",
      "block3_conv2 (Conv2D)        (None, 56, 56, 256)       590080    \n",
      "_________________________________________________________________\n",
      "block3_conv3 (Conv2D)        (None, 56, 56, 256)       590080    \n",
      "_________________________________________________________________\n",
      "block3_pool (MaxPooling2D)   (None, 28, 28, 256)       0         \n",
      "_________________________________________________________________\n",
      "block4_conv1 (Conv2D)        (None, 28, 28, 512)       1180160   \n",
      "_________________________________________________________________\n",
      "block4_conv2 (Conv2D)        (None, 28, 28, 512)       2359808   \n",
      "_________________________________________________________________\n",
      "block4_conv3 (Conv2D)        (None, 28, 28, 512)       2359808   \n",
      "_________________________________________________________________\n",
      "block4_pool (MaxPooling2D)   (None, 14, 14, 512)       0         \n",
      "_________________________________________________________________\n",
      "block5_conv1 (Conv2D)        (None, 14, 14, 512)       2359808   \n",
      "_________________________________________________________________\n",
      "block5_conv2 (Conv2D)        (None, 14, 14, 512)       2359808   \n",
      "_________________________________________________________________\n",
      "block5_conv3 (Conv2D)        (None, 14, 14, 512)       2359808   \n",
      "_________________________________________________________________\n",
      "block5_pool (MaxPooling2D)   (None, 7, 7, 512)         0         \n",
      "=================================================================\n",
      "Total params: 14,714,688\n",
      "Trainable params: 14,714,688\n",
      "Non-trainable params: 0\n",
      "_________________________________________________________________\n"
     ]
    }
   ],
   "source": [
    "base_model = VGG16(include_top=False, weights='imagenet', input_shape = (224,224,3))\n",
    "base_model.summary()"
   ]
  },
  {
   "cell_type": "markdown",
   "metadata": {},
   "source": [
    "Note that we have downloaded only a convolution part of the neural network. Let's add some dense layers on top of it."
   ]
  },
  {
   "cell_type": "code",
   "execution_count": 107,
   "metadata": {},
   "outputs": [],
   "source": [
    "nb_classes = 17"
   ]
  },
  {
   "cell_type": "code",
   "execution_count": 108,
   "metadata": {},
   "outputs": [],
   "source": [
    "flatten = Flatten()(base_model.output)\n",
    "dropout_1 = Dropout(0.25)(flatten)\n",
    "fc_1 = Dense(1000)(dropout_1)\n",
    "dropout_2 = Dropout(0.5)(fc_1)\n",
    "predictions = Dense(nb_classes, activation=\"softmax\", name='predictions')(dropout_2)"
   ]
  },
  {
   "cell_type": "code",
   "execution_count": 109,
   "metadata": {},
   "outputs": [],
   "source": [
    "model = Model(inputs=base_model.input, outputs=predictions)"
   ]
  },
  {
   "cell_type": "code",
   "execution_count": 110,
   "metadata": {},
   "outputs": [
    {
     "name": "stdout",
     "output_type": "stream",
     "text": [
      "Model: \"model_1\"\n",
      "_________________________________________________________________\n",
      "Layer (type)                 Output Shape              Param #   \n",
      "=================================================================\n",
      "input_1 (InputLayer)         (None, 224, 224, 3)       0         \n",
      "_________________________________________________________________\n",
      "block1_conv1 (Conv2D)        (None, 224, 224, 64)      1792      \n",
      "_________________________________________________________________\n",
      "block1_conv2 (Conv2D)        (None, 224, 224, 64)      36928     \n",
      "_________________________________________________________________\n",
      "block1_pool (MaxPooling2D)   (None, 112, 112, 64)      0         \n",
      "_________________________________________________________________\n",
      "block2_conv1 (Conv2D)        (None, 112, 112, 128)     73856     \n",
      "_________________________________________________________________\n",
      "block2_conv2 (Conv2D)        (None, 112, 112, 128)     147584    \n",
      "_________________________________________________________________\n",
      "block2_pool (MaxPooling2D)   (None, 56, 56, 128)       0         \n",
      "_________________________________________________________________\n",
      "block3_conv1 (Conv2D)        (None, 56, 56, 256)       295168    \n",
      "_________________________________________________________________\n",
      "block3_conv2 (Conv2D)        (None, 56, 56, 256)       590080    \n",
      "_________________________________________________________________\n",
      "block3_conv3 (Conv2D)        (None, 56, 56, 256)       590080    \n",
      "_________________________________________________________________\n",
      "block3_pool (MaxPooling2D)   (None, 28, 28, 256)       0         \n",
      "_________________________________________________________________\n",
      "block4_conv1 (Conv2D)        (None, 28, 28, 512)       1180160   \n",
      "_________________________________________________________________\n",
      "block4_conv2 (Conv2D)        (None, 28, 28, 512)       2359808   \n",
      "_________________________________________________________________\n",
      "block4_conv3 (Conv2D)        (None, 28, 28, 512)       2359808   \n",
      "_________________________________________________________________\n",
      "block4_pool (MaxPooling2D)   (None, 14, 14, 512)       0         \n",
      "_________________________________________________________________\n",
      "block5_conv1 (Conv2D)        (None, 14, 14, 512)       2359808   \n",
      "_________________________________________________________________\n",
      "block5_conv2 (Conv2D)        (None, 14, 14, 512)       2359808   \n",
      "_________________________________________________________________\n",
      "block5_conv3 (Conv2D)        (None, 14, 14, 512)       2359808   \n",
      "_________________________________________________________________\n",
      "block5_pool (MaxPooling2D)   (None, 7, 7, 512)         0         \n",
      "_________________________________________________________________\n",
      "flatten_1 (Flatten)          (None, 25088)             0         \n",
      "_________________________________________________________________\n",
      "dropout_1 (Dropout)          (None, 25088)             0         \n",
      "_________________________________________________________________\n",
      "dense_1 (Dense)              (None, 1000)              25089000  \n",
      "_________________________________________________________________\n",
      "dropout_2 (Dropout)          (None, 1000)              0         \n",
      "_________________________________________________________________\n",
      "predictions (Dense)          (None, 17)                17017     \n",
      "=================================================================\n",
      "Total params: 39,820,705\n",
      "Trainable params: 39,820,705\n",
      "Non-trainable params: 0\n",
      "_________________________________________________________________\n"
     ]
    }
   ],
   "source": [
    "model.summary()"
   ]
  },
  {
   "cell_type": "markdown",
   "metadata": {},
   "source": [
    "##### Model training parameters"
   ]
  },
  {
   "cell_type": "code",
   "execution_count": 111,
   "metadata": {},
   "outputs": [],
   "source": [
    "from keras import optimizers"
   ]
  },
  {
   "cell_type": "code",
   "execution_count": 112,
   "metadata": {},
   "outputs": [],
   "source": [
    "loss = 'categorical_crossentropy'\n",
    "learning_rate = 0.0005\n",
    "optimizer = optimizers.SGD ## optimizers.SGD ## optimizers.RMSprop ## optimizers.Adagrad\n",
    "metrics = ['categorical_accuracy']"
   ]
  },
  {
   "cell_type": "code",
   "execution_count": 113,
   "metadata": {},
   "outputs": [],
   "source": [
    "model.compile(loss=loss,\n",
    "              optimizer=optimizer(learning_rate),\n",
    "              metrics=metrics)"
   ]
  },
  {
   "cell_type": "code",
   "execution_count": 114,
   "metadata": {},
   "outputs": [],
   "source": [
    "# from keras.losses import categorical_crossentropy\n",
    "# from keras.optimizers import SGD, Adam, Adadelta\n",
    "# from keras.metrics import categorical_accuracy"
   ]
  },
  {
   "cell_type": "code",
   "execution_count": 115,
   "metadata": {},
   "outputs": [],
   "source": [
    "# model.compile(loss='categorical_crossentropy',\n",
    "# #               optimizer=SGD(learning_rate=0.001),\n",
    "#               optimizer=Adadelta(),\n",
    "#               metrics=['accuracy'])"
   ]
  },
  {
   "cell_type": "markdown",
   "metadata": {},
   "source": [
    "##### Data preparation"
   ]
  },
  {
   "cell_type": "code",
   "execution_count": 116,
   "metadata": {},
   "outputs": [],
   "source": [
    "from keras.preprocessing.image import ImageDataGenerator"
   ]
  },
  {
   "cell_type": "code",
   "execution_count": 117,
   "metadata": {},
   "outputs": [],
   "source": [
    "train_dir = os.path.join(data_folder, training_folder_name, \"train\")\n",
    "val_dir = os.path.join(data_folder, training_folder_name, \"val\")\n",
    "test_dir = os.path.join(data_folder, training_folder_name, \"test\")"
   ]
  },
  {
   "cell_type": "code",
   "execution_count": 118,
   "metadata": {},
   "outputs": [],
   "source": [
    "# we'll resize images in correspondance to network input size\n",
    "image_size = (224,224)"
   ]
  },
  {
   "cell_type": "code",
   "execution_count": 119,
   "metadata": {},
   "outputs": [
    {
     "name": "stdout",
     "output_type": "stream",
     "text": [
      "Found 680 images belonging to 17 classes.\n",
      "Found 340 images belonging to 17 classes.\n"
     ]
    }
   ],
   "source": [
    "# apply some data augmentation\n",
    "train_datagen = ImageDataGenerator(rotation_range=15,\n",
    "                                   width_shift_range=0.2,\n",
    "                                   height_shift_range=0.2,\n",
    "                                   horizontal_flip=True,\n",
    "                                   fill_mode='nearest',\n",
    "                                   preprocessing_function=preprocess_input_vgg\n",
    "                                  )\n",
    "\n",
    "validation_datagen = ImageDataGenerator(preprocessing_function=preprocess_input_vgg) # for validation we don't need to augment\n",
    "\n",
    "train_batchsize = 10\n",
    "val_batchsize = 10\n",
    "\n",
    "# this function takes images from folders and feeds to Imagedatagenerator\n",
    "train_generator = train_datagen.flow_from_directory( \n",
    "        train_dir,\n",
    "        target_size=image_size,\n",
    "        batch_size=train_batchsize,\n",
    "        class_mode='categorical')\n",
    " \n",
    "validation_generator = validation_datagen.flow_from_directory(\n",
    "        val_dir,\n",
    "        target_size=image_size,\n",
    "        batch_size=val_batchsize,\n",
    "        class_mode='categorical',\n",
    "        shuffle=False)"
   ]
  },
  {
   "cell_type": "markdown",
   "metadata": {},
   "source": [
    "##### Model training"
   ]
  },
  {
   "cell_type": "code",
   "execution_count": 123,
   "metadata": {},
   "outputs": [],
   "source": [
    "epochs = 40"
   ]
  },
  {
   "cell_type": "code",
   "execution_count": 121,
   "metadata": {},
   "outputs": [],
   "source": [
    "nb_train_steps = train_generator.samples // train_generator.batch_size\n",
    "nb_val_steps = validation_generator.samples // validation_generator.batch_size"
   ]
  },
  {
   "cell_type": "code",
   "execution_count": 138,
   "metadata": {},
   "outputs": [
    {
     "name": "stdout",
     "output_type": "stream",
     "text": [
      "Epoch 1/10\n",
      "68/68 [==============================] - 30s 441ms/step - loss: 0.3753 - categorical_accuracy: 0.8779 - val_loss: 1.5899 - val_categorical_accuracy: 0.8324\n",
      "Epoch 2/10\n",
      "68/68 [==============================] - 30s 444ms/step - loss: 0.3818 - categorical_accuracy: 0.8824 - val_loss: 0.9419 - val_categorical_accuracy: 0.8441\n",
      "Epoch 3/10\n",
      "68/68 [==============================] - 30s 444ms/step - loss: 0.2682 - categorical_accuracy: 0.9162 - val_loss: 0.3126 - val_categorical_accuracy: 0.8647\n",
      "Epoch 4/10\n",
      "68/68 [==============================] - 30s 445ms/step - loss: 0.2998 - categorical_accuracy: 0.9176 - val_loss: 0.4893 - val_categorical_accuracy: 0.8559\n",
      "Epoch 5/10\n",
      "68/68 [==============================] - 62s 919ms/step - loss: 0.2430 - categorical_accuracy: 0.9309 - val_loss: 0.1771 - val_categorical_accuracy: 0.8676\n",
      "Epoch 6/10\n",
      "68/68 [==============================] - 270s 4s/step - loss: 0.2552 - categorical_accuracy: 0.9176 - val_loss: 0.3238 - val_categorical_accuracy: 0.8853\n",
      "Epoch 7/10\n",
      "68/68 [==============================] - 260s 4s/step - loss: 0.2659 - categorical_accuracy: 0.9206 - val_loss: 0.6371 - val_categorical_accuracy: 0.9059\n",
      "Epoch 8/10\n",
      "68/68 [==============================] - 264s 4s/step - loss: 0.2202 - categorical_accuracy: 0.9294 - val_loss: 1.5953 - val_categorical_accuracy: 0.8353\n",
      "Epoch 9/10\n",
      "68/68 [==============================] - 287s 4s/step - loss: 0.1770 - categorical_accuracy: 0.9471 - val_loss: 0.6603 - val_categorical_accuracy: 0.8765\n",
      "Epoch 10/10\n",
      "68/68 [==============================] - 275s 4s/step - loss: 0.2362 - categorical_accuracy: 0.9338 - val_loss: 0.2165 - val_categorical_accuracy: 0.9059\n"
     ]
    }
   ],
   "source": [
    "history = model.fit_generator(\n",
    "      train_generator,\n",
    "      steps_per_epoch=nb_train_steps,\n",
    "      epochs=epochs,\n",
    "      validation_data=validation_generator,\n",
    "      validation_steps=nb_val_steps,\n",
    "      verbose=1, #0\n",
    ")"
   ]
  },
  {
   "cell_type": "code",
   "execution_count": 130,
   "metadata": {},
   "outputs": [
    {
     "name": "stdout",
     "output_type": "stream",
     "text": [
      "training acc.: 0.69264704\n",
      "val acc.: 0.7588235139846802\n"
     ]
    }
   ],
   "source": [
    "print('training acc.:',history.history['categorical_accuracy'][-1])\n",
    "print('val acc.:', (history.history['val_categorical_accuracy'])[-1])"
   ]
  },
  {
   "cell_type": "code",
   "execution_count": 132,
   "metadata": {},
   "outputs": [],
   "source": [
    "import matplotlib.pyplot as plt\n",
    "%matplotlib inline\n",
    "def plot_history(history):\n",
    "    plt.figure()\n",
    "    plt.xlabel('Epoch')\n",
    "    plt.ylabel('Accuracy %')\n",
    "    plt.plot(history.epoch, np.array(history.history['categorical_accuracy']),\n",
    "    label='Train Accuracy')\n",
    "    plt.plot(history.epoch, np.array(history.history['val_categorical_accuracy']),\n",
    "    label = 'Val Accuracy')\n",
    "    plt.legend()\n",
    "    plt.ylim([0, 1])"
   ]
  },
  {
   "cell_type": "code",
   "execution_count": 133,
   "metadata": {},
   "outputs": [
    {
     "data": {
      "image/png": "[encoded data removed]",
      "text/plain": [
       "<Figure size 432x288 with 1 Axes>"
      ]
     },
     "metadata": {
      "needs_background": "light"
     },
     "output_type": "display_data"
    }
   ],
   "source": [
    "plot_history(history)"
   ]
  },
  {
   "cell_type": "markdown",
   "metadata": {},
   "source": [
    "##### Save model"
   ]
  },
  {
   "cell_type": "code",
   "execution_count": 134,
   "metadata": {},
   "outputs": [],
   "source": [
    "weights_folder = \"weights\"\n",
    "os.makedirs(weights_folder, exist_ok=True)"
   ]
  },
  {
   "cell_type": "code",
   "execution_count": 135,
   "metadata": {},
   "outputs": [],
   "source": [
    "model_name = 'vgg16_transfer_weights.h5'"
   ]
  },
  {
   "cell_type": "code",
   "execution_count": 136,
   "metadata": {},
   "outputs": [],
   "source": [
    "model_path = os.path.join(weights_folder, model_name)"
   ]
  },
  {
   "cell_type": "code",
   "execution_count": 139,
   "metadata": {},
   "outputs": [],
   "source": [
    "model.save(model_path)"
   ]
  },
  {
   "cell_type": "markdown",
   "metadata": {},
   "source": [
    "##### Do the test on images"
   ]
  },
  {
   "cell_type": "code",
   "execution_count": 140,
   "metadata": {},
   "outputs": [],
   "source": [
    "from keras.preprocessing import image\n",
    "from keras.models import load_model"
   ]
  },
  {
   "cell_type": "code",
   "execution_count": 141,
   "metadata": {},
   "outputs": [],
   "source": [
    "model = load_model(model_path)"
   ]
  },
  {
   "cell_type": "markdown",
   "metadata": {},
   "source": [
    "###### Single image prediction"
   ]
  },
  {
   "cell_type": "code",
   "execution_count": 142,
   "metadata": {},
   "outputs": [],
   "source": [
    "class_idx = '07'\n",
    "image_name = os.listdir(os.path.join(test_dir, class_idx))[0]\n",
    "image_path = os.path.join(test_dir, class_idx, image_name)"
   ]
  },
  {
   "cell_type": "code",
   "execution_count": 143,
   "metadata": {},
   "outputs": [
    {
     "name": "stdout",
     "output_type": "stream",
     "text": [
      "[[2.6918749e-23 3.7069978e-23 4.0489374e-19 1.2536594e-22 4.3963088e-17\n",
      "  1.2647297e-17 1.0000000e+00 6.2564252e-18 1.0217018e-14 1.6726345e-16\n",
      "  7.0927321e-18 3.7461412e-19 2.8496230e-17 9.3411629e-18 7.1467430e-13\n",
      "  2.4855127e-18 2.6524944e-18]]\n"
     ]
    }
   ],
   "source": [
    "# predicting image: getting the output vector\n",
    "img = image.load_img(image_path, target_size=image_size)\n",
    "img_array = image.img_to_array(img)\n",
    "img_expanded = np.expand_dims(img_array, axis=0)\n",
    "preprocessed_image = preprocess_input_vgg(img_expanded)\n",
    "\n",
    "pred = model.predict(preprocessed_image)\n",
    "print(pred)"
   ]
  },
  {
   "cell_type": "code",
   "execution_count": 144,
   "metadata": {},
   "outputs": [
    {
     "data": {
      "text/plain": [
       "'07'"
      ]
     },
     "execution_count": 144,
     "metadata": {},
     "output_type": "execute_result"
    }
   ],
   "source": [
    "classes = [\"{:02d}\".format(i) for i in range(1, 18)]\n",
    "pred_class_idx = np.argmax(pred, axis=1)\n",
    "classes[pred_class_idx[0]]"
   ]
  },
  {
   "cell_type": "markdown",
   "metadata": {},
   "source": [
    "###### Multiple image predictions"
   ]
  },
  {
   "cell_type": "code",
   "execution_count": 145,
   "metadata": {},
   "outputs": [],
   "source": [
    "from sklearn.metrics import classification_report, confusion_matrix\n",
    "import seaborn as sns; sns.set()"
   ]
  },
  {
   "cell_type": "code",
   "execution_count": 146,
   "metadata": {},
   "outputs": [],
   "source": [
    "test_datagen = ImageDataGenerator(preprocessing_function=preprocess_input_vgg) "
   ]
  },
  {
   "cell_type": "code",
   "execution_count": 147,
   "metadata": {},
   "outputs": [
    {
     "name": "stdout",
     "output_type": "stream",
     "text": [
      "Found 340 images belonging to 17 classes.\n"
     ]
    }
   ],
   "source": [
    "test_generator = test_datagen.flow_from_directory(\n",
    "        test_dir,\n",
    "        target_size=image_size,\n",
    "        shuffle = False,\n",
    "        class_mode='categorical',\n",
    "        batch_size=1)\n",
    "\n",
    "filenames = test_generator.filenames\n",
    "nb_samples = len(filenames)\n",
    "\n",
    "predict = model.predict_generator(test_generator,steps=nb_samples)"
   ]
  },
  {
   "cell_type": "code",
   "execution_count": 148,
   "metadata": {},
   "outputs": [
    {
     "name": "stdout",
     "output_type": "stream",
     "text": [
      "Confusion Matrix\n"
     ]
    },
    {
     "data": {
      "image/png": "[encoded data removed]",
      "text/plain": [
       "<Figure size 432x288 with 1 Axes>"
      ]
     },
     "metadata": {},
     "output_type": "display_data"
    }
   ],
   "source": [
    "y_pred = np.argmax(predict, axis=1)\n",
    "print('Confusion Matrix')\n",
    "\n",
    "mat = confusion_matrix(test_generator.classes, y_pred)\n",
    "sns.heatmap(mat.T, square=True, annot=True, fmt='d', cbar=False,\n",
    "            xticklabels=classes,\n",
    "            yticklabels=classes)\n",
    "plt.xlabel('true label')\n",
    "plt.ylabel('predicted label');"
   ]
  },
  {
   "cell_type": "code",
   "execution_count": 149,
   "metadata": {},
   "outputs": [
    {
     "name": "stdout",
     "output_type": "stream",
     "text": [
      "              precision    recall  f1-score   support\n",
      "\n",
      "           0       0.73      0.80      0.76        20\n",
      "           1       0.90      0.90      0.90        20\n",
      "           2       0.88      0.75      0.81        20\n",
      "           3       0.94      0.85      0.89        20\n",
      "           4       0.76      0.95      0.84        20\n",
      "           5       1.00      0.75      0.86        20\n",
      "           6       1.00      1.00      1.00        20\n",
      "           7       0.87      0.65      0.74        20\n",
      "           8       0.90      0.95      0.93        20\n",
      "           9       1.00      1.00      1.00        20\n",
      "          10       0.95      1.00      0.98        20\n",
      "          11       0.90      0.95      0.93        20\n",
      "          12       1.00      0.85      0.92        20\n",
      "          13       0.81      0.85      0.83        20\n",
      "          14       0.91      1.00      0.95        20\n",
      "          15       0.91      1.00      0.95        20\n",
      "          16       0.87      1.00      0.93        20\n",
      "\n",
      "    accuracy                           0.90       340\n",
      "   macro avg       0.90      0.90      0.90       340\n",
      "weighted avg       0.90      0.90      0.90       340\n",
      "\n"
     ]
    }
   ],
   "source": [
    "print(classification_report(test_generator.classes, y_pred))"
   ]
  },
  {
   "cell_type": "markdown",
   "metadata": {},
   "source": [
    "Things to do\n",
    "\n",
    "- Check some of incorrectly classified images\n",
    "- Experiment with other models available in Keras\n",
    "- Build your own network\n",
    "- Optimize one or several training hyperparameters"
   ]
  },
  {
   "cell_type": "markdown",
   "metadata": {},
   "source": [
    "#### 3.2 Training enhancement"
   ]
  },
  {
   "cell_type": "markdown",
   "metadata": {},
   "source": [
    "There are multiple ways to improve the quality of the model. Have a look at these papers that provide some heuristics for training a [classification](https://arxiv.org/pdf/1812.01187.pdf) or [object detection](https://arxiv.org/pdf/1902.04103.pdf) model."
   ]
  },
  {
   "cell_type": "markdown",
   "metadata": {},
   "source": [
    "##### 3.2.1 Data augmentation"
   ]
  },
  {
   "cell_type": "markdown",
   "metadata": {},
   "source": [
    "Better data augmentation can easily give a boost to a model. Some of the useful tools include\n",
    "- [imgaug](https://github.com/aleju/imgaug)\n",
    "- [mixup](https://arxiv.org/pdf/1710.09412.pdf)"
   ]
  },
  {
   "cell_type": "markdown",
   "metadata": {},
   "source": [
    "##### 3.2.2 Learning rate scheduling and early stopping criteria"
   ]
  },
  {
   "cell_type": "markdown",
   "metadata": {},
   "source": [
    "In Keras learning rate scheduling and early stopping criteria can be implemented using [Callbacks](https://keras.io/callbacks/). In particular, the following are quite useful: LearningRateScheduler, ReduceLROnPlateau, EarlyStopping,  CSVLogger, ModelCheckpoint."
   ]
  },
  {
   "cell_type": "code",
   "execution_count": null,
   "metadata": {},
   "outputs": [],
   "source": []
  },
  {
   "cell_type": "code",
   "execution_count": null,
   "metadata": {},
   "outputs": [],
   "source": []
  },
  {
   "cell_type": "code",
   "execution_count": null,
   "metadata": {},
   "outputs": [],
   "source": []
  }
 ],
 "metadata": {
  "kernelspec": {
   "display_name": "Python [conda env:test]",
   "language": "python",
   "name": "conda-env-test-py"
  },
  "language_info": {
   "codemirror_mode": {
    "name": "ipython",
    "version": 3
   },
   "file_extension": ".py",
   "mimetype": "text/x-python",
   "name": "python",
   "nbconvert_exporter": "python",
   "pygments_lexer": "ipython3",
   "version": "3.7.6"
  }
 },
 "nbformat": 4,
 "nbformat_minor": 4
}
